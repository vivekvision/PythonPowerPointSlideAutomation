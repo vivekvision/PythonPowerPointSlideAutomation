{
 "cells": [
  {
   "cell_type": "code",
   "execution_count": 3,
   "id": "93c919f4",
   "metadata": {},
   "outputs": [],
   "source": [
    "import pandas as pd\n",
    "from pptx import Presentation\n",
    "from pptx.chart.data import CategoryChartData\n",
    "from pptx.chart.chart import Chart\n",
    "from pptx.enum.chart import XL_CHART_TYPE\n",
    "from pptx.enum.chart import XL_LEGEND_POSITION\n",
    "from pptx.util import Inches\n",
    "\n",
    "# create a sample dataframe\n",
    "df = pd.DataFrame({\n",
    "    'year': [2016, 2017, 2018, 2019, 2020],\n",
    "    'sales': [500, 800, 1000, 1200, 1500],\n",
    "    'expenses': [300, 400, 500, 600, 700]\n",
    "})\n",
    "\n",
    "# create a new presentation\n",
    "prs = Presentation()\n",
    "\n",
    "# create a new slide\n",
    "slide = prs.slides.add_slide(prs.slide_layouts[5])\n",
    "\n",
    "# create a chart\n",
    "x, y1, y2 = df['year'], df['sales'], df['expenses']\n",
    "chart_data = CategoryChartData()\n",
    "chart_data.categories = x\n",
    "chart_data.add_series('Sales', y1)\n",
    "chart_data.add_series('Expenses', y2)\n",
    "x, y, cx, cy = Inches(1), Inches(2), Inches(8), Inches(4)\n",
    "chart = slide.shapes.add_chart(\n",
    "    XL_CHART_TYPE.LINE, x, y, cx, cy, chart_data\n",
    ").chart\n",
    "\n",
    "# customize the chart\n",
    "chart.has_legend = True\n",
    "chart.legend.position = XL_LEGEND_POSITION.BOTTOM\n",
    "chart.has_title = True\n",
    "chart.chart_title.text_frame.text = 'Sales vs Expenses'\n",
    "chart.chart_title.text_frame.paragraphs[0].font.size = Inches(0.25)\n",
    "\n",
    "# save the presentation\n",
    "prs.save('line_chart.pptx')\n"
   ]
  },
  {
   "cell_type": "code",
   "execution_count": null,
   "id": "826e0472",
   "metadata": {},
   "outputs": [],
   "source": []
  }
 ],
 "metadata": {
  "kernelspec": {
   "display_name": "Python 3 (ipykernel)",
   "language": "python",
   "name": "python3"
  },
  "language_info": {
   "codemirror_mode": {
    "name": "ipython",
    "version": 3
   },
   "file_extension": ".py",
   "mimetype": "text/x-python",
   "name": "python",
   "nbconvert_exporter": "python",
   "pygments_lexer": "ipython3",
   "version": "3.9.7"
  }
 },
 "nbformat": 4,
 "nbformat_minor": 5
}
