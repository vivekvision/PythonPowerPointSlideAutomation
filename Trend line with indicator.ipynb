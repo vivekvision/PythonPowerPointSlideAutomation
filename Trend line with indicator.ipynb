{
 "cells": [
  {
   "cell_type": "code",
   "execution_count": 3,
   "id": "60e470d2",
   "metadata": {},
   "outputs": [],
   "source": [
    "import random\n",
    "from pptx import Presentation\n",
    "from pptx.chart.data import ChartData\n",
    "from pptx.enum.chart import XL_CHART_TYPE\n",
    "from pptx.enum.shapes import MSO_CONNECTOR_TYPE\n",
    "from pptx.util import Inches\n",
    "from pptx.dml.color import RGBColor\n",
    "\n",
    "# Generate random data\n",
    "categories = ['Jan', 'Feb', 'Mar', 'Apr', 'May', 'Jun']\n",
    "values = [random.randint(80, 200) for _ in range(len(categories))]\n",
    "\n",
    "# Create a new presentation\n",
    "presentation = Presentation()\n",
    "\n",
    "# Add a slide with a blank layout\n",
    "slide_layout = presentation.slide_layouts[5]\n",
    "slide = presentation.slides.add_slide(slide_layout)\n",
    "\n",
    "# Create chart data\n",
    "chart_data = ChartData()\n",
    "chart_data.categories = categories\n",
    "chart_data.add_series('Series 1', values)\n",
    "\n",
    "# Add a line chart to the slide\n",
    "x, y, width, height = Inches(1), Inches(1.5), Inches(8), Inches(4)\n",
    "chart_shape = slide.shapes.add_chart(XL_CHART_TYPE.LINE, x, y, width, height, chart_data)\n",
    "chart = chart_shape.chart\n",
    "\n",
    "\n",
    "\n",
    "\n",
    "# Save the presentation\n",
    "presentation.save('trendline_with_indicator.pptx')"
   ]
  },
  {
   "cell_type": "code",
   "execution_count": null,
   "id": "8fa1fd34",
   "metadata": {},
   "outputs": [],
   "source": [
    "# Add increment and decrement indicators\n",
    "for i in range(1, len(values)):\n",
    "    x1 = x + width * (i - 1) / (len(categories) - 1)\n",
    "    y1 = y + height * (1 - (values[i - 1] - min(values)) / (max(values) - min(values)))\n",
    "    x2 = x + width * i / (len(categories) - 1)\n",
    "    y2 = y + height * (1 - (values[i] - min(values)) / (max(values) - min(values)))\n",
    "\n",
    "    color = RGBColor(0, 128, 0) if values[i] > values[i - 1] else RGBColor(255, 0, 0)\n",
    "    line = slide.shapes.add_connector(MSO_CONNECTOR_TYPE.STRAIGHT, x1, y1, x2, y2).line\n",
    "    line.width = Inches(0.02)\n",
    "    line.fill.solid()\n",
    "    line.fill.fore_color.rgb = color\n"
   ]
  }
 ],
 "metadata": {
  "kernelspec": {
   "display_name": "Python 3 (ipykernel)",
   "language": "python",
   "name": "python3"
  },
  "language_info": {
   "codemirror_mode": {
    "name": "ipython",
    "version": 3
   },
   "file_extension": ".py",
   "mimetype": "text/x-python",
   "name": "python",
   "nbconvert_exporter": "python",
   "pygments_lexer": "ipython3",
   "version": "3.9.7"
  }
 },
 "nbformat": 4,
 "nbformat_minor": 5
}
