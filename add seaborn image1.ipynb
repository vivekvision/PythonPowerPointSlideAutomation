{
 "cells": [
  {
   "cell_type": "markdown",
   "id": "d2ae5f70",
   "metadata": {},
   "source": [
    "Its not recommended practice to add image in PPTX plot \n",
    "\n",
    "all plot should be done using native PPTX API"
   ]
  },
  {
   "cell_type": "code",
   "execution_count": null,
   "id": "74eedf50",
   "metadata": {},
   "outputs": [],
   "source": []
  },
  {
   "cell_type": "code",
   "execution_count": 7,
   "id": "99777957",
   "metadata": {},
   "outputs": [
    {
     "data": {
      "image/png": "[encoded data removed]",
      "text/plain": [
       "<Figure size 432x288 with 1 Axes>"
      ]
     },
     "metadata": {
      "needs_background": "light"
     },
     "output_type": "display_data"
    }
   ],
   "source": [
    "from pptx import Presentation\n",
    "from pptx.util import Inches\n",
    "from pptx.enum.text import PP_ALIGN\n",
    "from pptx.enum.shapes import MSO_SHAPE\n",
    "from pptx.dml.color import RGBColor\n",
    "from pptx.chart.data import CategoryChartData\n",
    "import seaborn as sns\n",
    "import io\n",
    "\n",
    "# Create a new PowerPoint presentation\n",
    "prs = Presentation()\n",
    "\n",
    "# Create a new slide with title and subtitle\n",
    "title_slide_layout = prs.slide_layouts[0]\n",
    "slide = prs.slides.add_slide(title_slide_layout)\n",
    "title = slide.shapes.title\n",
    "subtitle = slide.placeholders[1]\n",
    "title.text = \"Seaborn and PowerPoint\"\n",
    "subtitle.text = \"A Beautiful Partnership\"\n",
    "\n",
    "# Create a new slide with a seaborn plot\n",
    "plot_slide_layout = prs.slide_layouts[5]\n",
    "slide = prs.slides.add_slide(plot_slide_layout)\n",
    "\n",
    "# Generate a seaborn plot\n",
    "plot = sns.barplot(x=[\"A\", \"B\", \"C\"], y=[1, 2, 3])\n",
    "fig = plot.get_figure()\n",
    "image_stream = io.BytesIO()\n",
    "fig.savefig(image_stream)\n",
    "\n",
    "# Add the plot to the PowerPoint slide\n",
    "plot = slide.shapes.add_picture(image_stream, left=Inches(0.5), top=Inches(1.5))\n",
    "\n",
    "# Add a title and description to the slide\n",
    "title = slide.shapes.add_textbox(left=Inches(0.5), top=Inches(0.25), width=Inches(9), height=Inches(0.5))\n",
    "title.text = \"Seaborn Plot Example\"\n",
    "title.text_frame.paragraphs[0].font.bold = True\n",
    "title.text_frame.paragraphs[0].font.size = Inches(0.4)\n",
    "title.text_frame.paragraphs[0].font.color.rgb = RGBColor(255, 255, 255)\n",
    "title.text_frame.paragraphs[0].alignment = PP_ALIGN.LEFT\n",
    "\n",
    "description = slide.shapes.add_textbox(left=Inches(0.5), top=Inches(2.5), width=Inches(9), height=Inches(0.5))\n",
    "description.text = \"This is an example of a Seaborn plot added to a PowerPoint slide using the pptx package in Python. The plot shows the values of A, B, and C.\"\n",
    "description.text_frame.paragraphs[0].font.size = Inches(0.3)\n",
    "description.text_frame.paragraphs[0].font.color.rgb = RGBColor(150, 150, 150)\n",
    "description.text_frame.paragraphs[0].alignment = PP_ALIGN.LEFT\n",
    "\n",
    "# Add a chart to the slide\n",
    "chart_slide_layout = prs.slide_layouts[6]\n",
    "slide = prs.slides.add_slide(chart_slide_layout)\n",
    "\n",
    "# Add a title to the slide\n",
    "title = slide.shapes.add_textbox(left=Inches(0.5), top=Inches(0.25), width=Inches(9), height=Inches(0.5))\n",
    "title.text = \"Chart Example\"\n",
    "title.text_frame.paragraphs[0].font.bold = True\n",
    "title.text_frame.paragraphs[0].font.size = Inches(0.4)\n",
    "title.text_frame.paragraphs[0].font.color.rgb = RGBColor(255, 255, 255)\n",
    "title.text_frame.paragraphs[0].alignment = PP_ALIGN.LEFT\n",
    "\n",
    "# Add a description to the slide\n",
    "description = slide.shapes.add_textbox(left=Inches(0.5), top=Inches(1), width=Inches(9), height=Inches(0.5))\n",
    "description.text = \"This is an example\"\n",
    "\n",
    "prs.save('Report1.pptx')"
   ]
  },
  {
   "cell_type": "code",
   "execution_count": null,
   "id": "6e509945",
   "metadata": {},
   "outputs": [],
   "source": []
  }
 ],
 "metadata": {
  "kernelspec": {
   "display_name": "Python 3 (ipykernel)",
   "language": "python",
   "name": "python3"
  },
  "language_info": {
   "codemirror_mode": {
    "name": "ipython",
    "version": 3
   },
   "file_extension": ".py",
   "mimetype": "text/x-python",
   "name": "python",
   "nbconvert_exporter": "python",
   "pygments_lexer": "ipython3",
   "version": "3.10.9"
  },
  "vp": {
   "vp_config_version": "1.0.0",
   "vp_menu_width": 273,
   "vp_note_display": false,
   "vp_note_width": 0,
   "vp_position": {
    "width": 278
   },
   "vp_section_display": false,
   "vp_signature": "VisualPython"
  }
 },
 "nbformat": 4,
 "nbformat_minor": 5
}
