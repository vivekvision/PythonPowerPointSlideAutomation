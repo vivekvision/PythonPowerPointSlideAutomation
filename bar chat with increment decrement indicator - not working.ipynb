{
 "cells": [
  {
   "cell_type": "code",
   "execution_count": 28,
   "id": "4a7493c4",
   "metadata": {},
   "outputs": [],
   "source": [
    "from pptx import Presentation\n",
    "from pptx.chart.data import CategoryChartData\n",
    "from pptx.enum.chart import XL_CHART_TYPE, XL_TICK_MARK\n",
    "from pptx.util import Inches, Pt\n",
    "\n",
    "# create a new presentation\n",
    "prs = Presentation()\n",
    "\n",
    "# create a slide\n",
    "slide = prs.slides.add_slide(prs.slide_layouts[5])\n",
    "\n",
    "# create chart data\n",
    "chart_data = CategoryChartData()\n",
    "chart_data.categories = [\"Category 1\", \"Category 2\", \"Category 3\"]\n",
    "chart_data.add_series(\"Series 1\", (10, 15, 12))\n",
    "\n",
    "# add chart to slide\n",
    "left = Inches(0.5)\n",
    "top = Inches(2)\n",
    "width = Inches(6)\n",
    "height = Inches(4)\n",
    "chart = slide.shapes.add_chart(\n",
    "    XL_CHART_TYPE.COLUMN_CLUSTERED, left, top, width, height, chart_data\n",
    ").chart\n",
    "\n",
    "# set major tick mark on x-axis\n",
    "category_axis = chart.category_axis\n",
    "category_axis.major_tick_mark = XL_TICK_MARK.OUTSIDE\n",
    "\n",
    "# iterate over data points and add increment/decrement indicators to data labels\n",
    "previous_value = None\n",
    "for idx, series in enumerate(chart.series):\n",
    "    for point in series.points:\n",
    "        value = point.data_label.text_frame.text\n",
    "        if value and value.isnumeric():\n",
    "            if previous_value is None:\n",
    "                increment_indicator = \"\"\n",
    "            else:\n",
    "                diff = float(value) - float(previous_value)\n",
    "                if diff > 0:\n",
    "                    increment_indicator = \" ▲\"\n",
    "                elif diff < 0:\n",
    "                    increment_indicator = \" ▼\"\n",
    "                else:\n",
    "                    increment_indicator = \"\"\n",
    "            # add increment/decrement indicator to data label\n",
    "            point.data_label.text_frame.text += increment_indicator\n",
    "            # set font size and position of data label\n",
    "            point.data_label.font.size = Pt(14)\n",
    "            point.data_label.top = point.data_label.top - Pt(10)\n",
    "            previous_value = float(value)\n",
    "\n",
    "# save presentation\n",
    "prs.save(\"bar_chart_increment_decrement.pptx\")\n"
   ]
  },
  {
   "cell_type": "code",
   "execution_count": null,
   "id": "5884972a",
   "metadata": {},
   "outputs": [],
   "source": []
  },
  {
   "cell_type": "code",
   "execution_count": null,
   "id": "7df87f92",
   "metadata": {},
   "outputs": [],
   "source": []
  },
  {
   "cell_type": "code",
   "execution_count": null,
   "id": "27e1ea44",
   "metadata": {},
   "outputs": [],
   "source": []
  },
  {
   "cell_type": "code",
   "execution_count": null,
   "id": "0cc0ef41",
   "metadata": {},
   "outputs": [],
   "source": []
  },
  {
   "cell_type": "code",
   "execution_count": null,
   "id": "a0b1a85c",
   "metadata": {},
   "outputs": [],
   "source": []
  }
 ],
 "metadata": {
  "kernelspec": {
   "display_name": "Python 3 (ipykernel)",
   "language": "python",
   "name": "python3"
  },
  "language_info": {
   "codemirror_mode": {
    "name": "ipython",
    "version": 3
   },
   "file_extension": ".py",
   "mimetype": "text/x-python",
   "name": "python",
   "nbconvert_exporter": "python",
   "pygments_lexer": "ipython3",
   "version": "3.9.7"
  }
 },
 "nbformat": 4,
 "nbformat_minor": 5
}
