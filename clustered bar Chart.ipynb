{
 "cells": [
  {
   "cell_type": "code",
   "execution_count": 2,
   "id": "8603843e",
   "metadata": {},
   "outputs": [],
   "source": [
    "\"\"\"\n",
    "\n",
    "This code creates a sample pandas dataframe with two columns (Value 1 and Value 2) and a category column (Category).\n",
    "\n",
    "It then creates a new PowerPoint presentation and adds a new slide with a Clustered Bar Chart that shows the values\n",
    "of Value 1 and Value 2 for each category. \n",
    "\n",
    "The chart is then customized \n",
    "with a chart title and axis titles, and the presentation is saved to a file named Clustered_Bar_Chart.pptx.\n",
    "\n",
    "\"\"\"\n",
    "\n",
    "import pandas as pd\n",
    "from pptx import Presentation\n",
    "from pptx.chart.data import ChartData\n",
    "from pptx.enum.chart import XL_CHART_TYPE\n",
    "from pptx.util import Inches\n",
    "\n",
    "# Create a sample pandas dataframe\n",
    "df = pd.DataFrame({\n",
    "    'Category': ['A', 'B', 'C', 'D'],\n",
    "    'Value 1': [10, 20, 30, 40],\n",
    "    'Value 2': [15, 25, 35, 45]\n",
    "})\n",
    "\n",
    "# Create a new PowerPoint presentation\n",
    "prs = Presentation()\n",
    "\n",
    "# Add a new slide\n",
    "slide = prs.slides.add_slide(prs.slide_layouts[6])\n",
    "\n",
    "# Define the chart data\n",
    "chart_data = ChartData()\n",
    "chart_data.categories = df['Category']\n",
    "chart_data.add_series('Value 1', df['Value 1'])\n",
    "chart_data.add_series('Value 2', df['Value 2'])\n",
    "\n",
    "# Add the chart to the slide\n",
    "x, y, cx, cy = Inches(2), Inches(2), Inches(6), Inches(4.5)\n",
    "chart = slide.shapes.add_chart(XL_CHART_TYPE.COLUMN_CLUSTERED, x, y, cx, cy, chart_data).chart\n",
    "\n",
    "# Set the chart title\n",
    "chart.has_title = True\n",
    "chart.chart_title.text_frame.text = 'Clustered Bar Chart'\n",
    "\n",
    "# Set the axis titles\n",
    "chart.category_axis.has_title = True\n",
    "chart.category_axis.axis_title.text_frame.text = 'Categories'\n",
    "chart.value_axis.has_title = True\n",
    "chart.value_axis.axis_title.text_frame.text = 'Values'\n",
    "\n",
    "# Save the PowerPoint presentation\n",
    "prs.save('Clustered_Bar_Chart.pptx')\n"
   ]
  },
  {
   "cell_type": "code",
   "execution_count": null,
   "id": "5cfa1c80",
   "metadata": {},
   "outputs": [],
   "source": []
  }
 ],
 "metadata": {
  "kernelspec": {
   "display_name": "Python 3 (ipykernel)",
   "language": "python",
   "name": "python3"
  },
  "language_info": {
   "codemirror_mode": {
    "name": "ipython",
    "version": 3
   },
   "file_extension": ".py",
   "mimetype": "text/x-python",
   "name": "python",
   "nbconvert_exporter": "python",
   "pygments_lexer": "ipython3",
   "version": "3.9.7"
  }
 },
 "nbformat": 4,
 "nbformat_minor": 5
}
