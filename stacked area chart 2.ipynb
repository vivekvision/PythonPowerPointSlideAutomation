{
 "cells": [
  {
   "cell_type": "code",
   "execution_count": 2,
   "id": "f3420a11",
   "metadata": {},
   "outputs": [],
   "source": [
    "from pptx import Presentation\n",
    "from pptx.chart.data import ChartData\n",
    "from pptx.enum.chart import XL_CHART_TYPE\n",
    "from pptx.util import Inches\n",
    "\n",
    "import pandas as pd\n",
    "\n",
    "# Create a new PowerPoint presentation and add a blank slide\n",
    "prs = Presentation()\n",
    "slide_layout = prs.slide_layouts[5]\n",
    "slide = prs.slides.add_slide(slide_layout)\n",
    "\n",
    "# Define the chart data from a pandas DataFrame\n",
    "df = pd.DataFrame({\n",
    "    'Year': [2015, 2016, 2017, 2018, 2019],\n",
    "    'Product A': [100, 200, 300, 400, 500],\n",
    "    'Product B': [200, 300, 400, 500, 600],\n",
    "    'Product C': [150, 250, 350, 450, 550]\n",
    "})\n",
    "chart_data = ChartData()\n",
    "chart_data.categories = df['Year']\n",
    "for col in df.columns[1:]:\n",
    "    chart_data.add_series(col, df[col])\n",
    "\n",
    "# Add a stacked area chart to the slide\n",
    "x, y, cx, cy = Inches(2), Inches(2), Inches(6), Inches(4.5)\n",
    "chart = slide.shapes.add_chart(\n",
    "    XL_CHART_TYPE.AREA_STACKED, x, y, cx, cy, chart_data\n",
    ").chart\n",
    "\n",
    "# Set the chart title\n",
    "chart.has_title = True\n",
    "chart.chart_title.text_frame.text = 'Stock Area Chart'\n",
    "\n",
    "# Set the category axis title\n",
    "category_axis = chart.category_axis\n",
    "category_axis.has_title = True\n",
    "category_axis.axis_title.text_frame.text = 'Year'\n",
    "\n",
    "# Set the value axis title\n",
    "value_axis = chart.value_axis\n",
    "value_axis.has_title = True\n",
    "value_axis.axis_title.text_frame.text = 'Sales'\n",
    "\n",
    "# Save the presentation\n",
    "prs.save('stock_area_chart.pptx')\n"
   ]
  },
  {
   "cell_type": "code",
   "execution_count": null,
   "id": "20ef50bf",
   "metadata": {},
   "outputs": [],
   "source": []
  }
 ],
 "metadata": {
  "kernelspec": {
   "display_name": "Python 3 (ipykernel)",
   "language": "python",
   "name": "python3"
  },
  "language_info": {
   "codemirror_mode": {
    "name": "ipython",
    "version": 3
   },
   "file_extension": ".py",
   "mimetype": "text/x-python",
   "name": "python",
   "nbconvert_exporter": "python",
   "pygments_lexer": "ipython3",
   "version": "3.9.7"
  }
 },
 "nbformat": 4,
 "nbformat_minor": 5
}
