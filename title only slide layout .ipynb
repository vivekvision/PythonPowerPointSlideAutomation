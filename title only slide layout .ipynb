{
 "cells": [
  {
   "cell_type": "code",
   "execution_count": 6,
   "id": "37726cd2",
   "metadata": {},
   "outputs": [],
   "source": [
    "from pptx import Presentation\n",
    "\n",
    "# import the RGBColor class from the pptx.dml.color module and use it to set the foreground color of the title shape\n",
    "\n",
    "from pptx.dml.color import RGBColor\n",
    "\n",
    "# import the Pt class from the pptx.util module and use it to set the font size of the title shape\n",
    "from pptx.util import Pt\n",
    "\n",
    "# Create a new PowerPoint presentation\n",
    "prs = Presentation()\n",
    "\n",
    "# Add a new slide using the \"Title Only\" layout\n",
    "slide_layout = prs.slide_layouts[6]\n",
    "slide = prs.slides.add_slide(slide_layout)\n",
    "\n",
    "# Check if the slide layout includes a title placeholder\n",
    "if not slide.shapes.title:\n",
    "    title_shape = slide.shapes.add_textbox(left=0.5, top=0.5, width=9, height=1)\n",
    "    title_shape.text = 'My Title'\n",
    "    # Set the text box shape properties\n",
    "    fill = title_shape.fill\n",
    "    fill.solid()\n",
    "    fill.fore_color.rgb = RGBColor(255, 255, 255)\n",
    "    title_shape.text_frame.paragraphs[0].font.size = Pt(24)\n",
    "else:\n",
    "    title_shape = slide.shapes.title\n",
    "    title_shape.text = 'My Title'\n",
    "\n",
    "# Save the PowerPoint presentation\n",
    "prs.save('my_presentation.pptx')\n"
   ]
  },
  {
   "cell_type": "code",
   "execution_count": null,
   "id": "a4072e6b",
   "metadata": {},
   "outputs": [],
   "source": []
  }
 ],
 "metadata": {
  "kernelspec": {
   "display_name": "Python 3 (ipykernel)",
   "language": "python",
   "name": "python3"
  },
  "language_info": {
   "codemirror_mode": {
    "name": "ipython",
    "version": 3
   },
   "file_extension": ".py",
   "mimetype": "text/x-python",
   "name": "python",
   "nbconvert_exporter": "python",
   "pygments_lexer": "ipython3",
   "version": "3.9.7"
  }
 },
 "nbformat": 4,
 "nbformat_minor": 5
}
