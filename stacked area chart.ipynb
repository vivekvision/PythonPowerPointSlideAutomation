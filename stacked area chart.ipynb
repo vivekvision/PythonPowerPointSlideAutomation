{
 "cells": [
  {
   "cell_type": "code",
   "execution_count": 12,
   "id": "0858d152",
   "metadata": {},
   "outputs": [],
   "source": [
    "from pptx import Presentation\n",
    "from pptx.chart.data import ChartData\n",
    "from pptx.chart.chart import Chart\n",
    "from pptx.enum.chart import XL_CHART_TYPE\n",
    "from pptx.util import Inches\n",
    "\n",
    "import pandas as pd\n",
    "\n",
    "# Create a new PowerPoint presentation and add a blank slide\n",
    "prs = Presentation()\n",
    "slide_layout = prs.slide_layouts[5]\n",
    "slide = prs.slides.add_slide(slide_layout)\n",
    "\n",
    "# Define the chart data\n",
    "chart_data = ChartData()\n",
    "chart_data.categories = ['Category 1', 'Category 2', 'Category 3']\n",
    "chart_data.add_series('Series 1', (10, 20, 30))\n",
    "chart_data.add_series('Series 2', (20, 30, 10))\n",
    "chart_data.add_series('Series 3', (30, 10, 20))\n",
    "\n",
    "# Add a chart to the slide\n",
    "x, y, cx, cy = Inches(2), Inches(2), Inches(6), Inches(4.5)\n",
    "chart = slide.shapes.add_chart(\n",
    "    XL_CHART_TYPE.AREA_STACKED, x, y, cx, cy, chart_data\n",
    ").chart\n",
    "\n",
    "# Set the chart title\n",
    "chart.has_title = True\n",
    "chart.chart_title.text_frame.text = 'My Stacked Area Chart'\n",
    "\n",
    "# Set the category axis title\n",
    "category_axis = chart.category_axis\n",
    "category_axis.has_title = True\n",
    "category_axis.axis_title.text_frame.text = 'Categories'\n",
    "\n",
    "# Set the value axis title\n",
    "value_axis = chart.value_axis\n",
    "value_axis.has_title = True\n",
    "value_axis.axis_title.text_frame.text = 'Values'\n",
    "\n",
    "# Save the presentation\n",
    "prs.save('stacked_area_chart.pptx')\n"
   ]
  },
  {
   "cell_type": "code",
   "execution_count": null,
   "id": "36dacfdc",
   "metadata": {},
   "outputs": [],
   "source": []
  }
 ],
 "metadata": {
  "kernelspec": {
   "display_name": "Python 3 (ipykernel)",
   "language": "python",
   "name": "python3"
  },
  "language_info": {
   "codemirror_mode": {
    "name": "ipython",
    "version": 3
   },
   "file_extension": ".py",
   "mimetype": "text/x-python",
   "name": "python",
   "nbconvert_exporter": "python",
   "pygments_lexer": "ipython3",
   "version": "3.9.7"
  }
 },
 "nbformat": 4,
 "nbformat_minor": 5
}
