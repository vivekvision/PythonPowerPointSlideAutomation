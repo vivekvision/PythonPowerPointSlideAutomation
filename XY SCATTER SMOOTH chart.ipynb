{
 "cells": [
  {
   "cell_type": "code",
   "execution_count": 7,
   "id": "696d467b",
   "metadata": {},
   "outputs": [],
   "source": [
    "from pptx import Presentation\n",
    "from pptx.chart.data import CategoryChartData, XyChartData\n",
    "from pptx.chart.series import XySeries\n",
    "from pptx.enum.chart import XL_CHART_TYPE\n",
    "from pptx.util import Inches\n",
    "import pandas as pd\n",
    "\n",
    "# create a new presentation\n",
    "prs = Presentation()\n",
    "\n",
    "# create a slide\n",
    "slide = prs.slides.add_slide(prs.slide_layouts[5])\n",
    "\n",
    "# create data for chart\n",
    "data = pd.DataFrame({\n",
    "    'x': [1, 2, 3, 4, 5],\n",
    "    'y': [1, 3, 2, 4, 5]\n",
    "})\n",
    "\n",
    "# create chart data\n",
    "chart_data = XyChartData()\n",
    "series = chart_data.add_series('XY Series')\n",
    "for index, row in data.iterrows():\n",
    "    series.add_data_point(row['x'], row['y'])\n",
    "\n",
    "# add chart to slide\n",
    "left = Inches(2)\n",
    "top = Inches(2)\n",
    "width = Inches(6)\n",
    "height = Inches(4.5)\n",
    "chart = slide.shapes.add_chart(\n",
    "    chart_type=XL_CHART_TYPE.XY_SCATTER_SMOOTH,\n",
    "    x=left,\n",
    "    y=top,\n",
    "    cx=width,\n",
    "    cy=height,\n",
    "    chart_data=chart_data\n",
    ").chart\n",
    "\n",
    "# set chart title\n",
    "chart.has_title = True\n",
    "chart.chart_title.text_frame.text = 'XY Scatter Smooth Chart'\n",
    "\n",
    "# save presentation\n",
    "prs.save('xy_scatter_smooth_chart.pptx')\n"
   ]
  },
  {
   "cell_type": "code",
   "execution_count": null,
   "id": "b85243b9",
   "metadata": {},
   "outputs": [],
   "source": []
  }
 ],
 "metadata": {
  "kernelspec": {
   "display_name": "Python 3 (ipykernel)",
   "language": "python",
   "name": "python3"
  },
  "language_info": {
   "codemirror_mode": {
    "name": "ipython",
    "version": 3
   },
   "file_extension": ".py",
   "mimetype": "text/x-python",
   "name": "python",
   "nbconvert_exporter": "python",
   "pygments_lexer": "ipython3",
   "version": "3.9.7"
  }
 },
 "nbformat": 4,
 "nbformat_minor": 5
}
