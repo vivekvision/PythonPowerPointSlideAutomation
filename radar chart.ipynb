{
 "cells": [
  {
   "cell_type": "code",
   "execution_count": 2,
   "id": "41f0da76",
   "metadata": {},
   "outputs": [],
   "source": [
    "import pandas as pd\n",
    "from pptx import Presentation\n",
    "from pptx.chart.data import CategoryChartData\n",
    "from pptx.enum.chart import XL_CHART_TYPE\n",
    "from pptx.util import Inches, Pt\n",
    "\n",
    "\"\"\"\n",
    "\n",
    " creates a sample dataframe with sales, expenses, and profit data for five quarters,\n",
    " then creates a radar chart using the data from the dataframe. \n",
    " \n",
    " The chart is added to a slide in a new PowerPoint presentation, with categories and a chart title added for clarity.\n",
    " Finally, the presentation is saved to a file\n",
    "\n",
    "\"\"\"\n",
    "\n",
    "\n",
    "# create sample dataframe\n",
    "data = {'Sales': [20, 25, 30, 35, 40],\n",
    "        'Expenses': [10, 15, 20, 25, 30],\n",
    "        'Profit': [5, 10, 15, 20, 25]}\n",
    "df = pd.DataFrame(data, index=['Q1', 'Q2', 'Q3', 'Q4', 'Q5'])\n",
    "\n",
    "# create presentation and slide\n",
    "prs = Presentation()\n",
    "slide = prs.slides.add_slide(prs.slide_layouts[5])\n",
    "\n",
    "# create chart data and add series\n",
    "chart_data = CategoryChartData()\n",
    "for column in df.columns:\n",
    "    chart_data.add_series(column, (df[column].values))\n",
    "\n",
    "    \n",
    "# iterate over the index of the DataFrame and use the add_category() method to\n",
    "# add each index value as a category to the CategoryChartData object. \n",
    "\n",
    "# add categories to chart data\n",
    "for category in df.index:\n",
    "    chart_data.add_category(category)\n",
    "\n",
    "# add chart to slide\n",
    "x, y, cx, cy = Inches(2), Inches(2), Inches(6), Inches(4.5)\n",
    "chart = slide.shapes.add_chart(XL_CHART_TYPE.RADAR, x, y, cx, cy, chart_data).chart\n",
    "\n",
    "# formatting to the chart by setting the font size of the tick labels.\n",
    "    \n",
    "\n",
    "# add formatting to chart\n",
    "chart.category_axis.has_major_gridlines = False\n",
    "chart.category_axis.tick_labels.font.size = Pt(14)\n",
    "\n",
    "# add chart title\n",
    "chart.has_title = True\n",
    "chart.chart_title.text_frame.text = 'Quarterly Performance'\n",
    "\n",
    "# save presentation\n",
    "prs.save('radar_chart.pptx')\n"
   ]
  },
  {
   "cell_type": "code",
   "execution_count": null,
   "id": "80a4df9d",
   "metadata": {},
   "outputs": [],
   "source": []
  }
 ],
 "metadata": {
  "kernelspec": {
   "display_name": "Python 3 (ipykernel)",
   "language": "python",
   "name": "python3"
  },
  "language_info": {
   "codemirror_mode": {
    "name": "ipython",
    "version": 3
   },
   "file_extension": ".py",
   "mimetype": "text/x-python",
   "name": "python",
   "nbconvert_exporter": "python",
   "pygments_lexer": "ipython3",
   "version": "3.9.7"
  }
 },
 "nbformat": 4,
 "nbformat_minor": 5
}
