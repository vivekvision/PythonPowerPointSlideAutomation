{
 "cells": [
  {
   "cell_type": "code",
   "execution_count": 4,
   "id": "43a21fde",
   "metadata": {},
   "outputs": [],
   "source": [
    "from pptx import Presentation\n",
    "from pptx.chart.data import CategoryChartData\n",
    "from pptx.chart.chart import Chart\n",
    "from pptx.enum.chart import XL_CHART_TYPE\n",
    "from pptx.util import Inches\n",
    "import pandas as pd\n",
    "\n",
    "# create a new presentation\n",
    "prs = Presentation()\n",
    "\n",
    "# create a slide\n",
    "slide = prs.slides.add_slide(prs.slide_layouts[5])\n",
    "\n",
    "# create data for chart\n",
    "data = pd.DataFrame({\n",
    "    'Category 1': [10, 20, 10],\n",
    "    'Category 2': [1, 8, 15],\n",
    "    'Category 3': [2, 3, 4]\n",
    "})\n",
    "\n",
    "# create chart data\n",
    "chart_data = CategoryChartData()\n",
    "chart_data.categories = data.index\n",
    "for col in data.columns:\n",
    "    chart_data.add_series(col, data[col])\n",
    "\n",
    "# add chart to slide\n",
    "left = Inches(2)\n",
    "top = Inches(2)\n",
    "width = Inches(6)\n",
    "height = Inches(4.5)\n",
    "chart = slide.shapes.add_chart(\n",
    "    chart_type=XL_CHART_TYPE.AREA,\n",
    "    x=left,\n",
    "    y=top,\n",
    "    cx=width,\n",
    "    cy=height,\n",
    "    chart_data=chart_data\n",
    ").chart\n",
    "\n",
    "# set chart title\n",
    "chart.has_title = True\n",
    "chart.chart_title.text_frame.text = 'Area Chart'\n",
    "\n",
    "# set chart axis titles\n",
    "category_axis = chart.category_axis\n",
    "category_axis.has_title = True\n",
    "category_axis.axis_title.text_frame.text = 'Categories'\n",
    "\n",
    "value_axis = chart.value_axis\n",
    "value_axis.has_title = True\n",
    "value_axis.axis_title.text_frame.text = 'Values'\n",
    "\n",
    "# save presentation\n",
    "prs.save('area_chart.pptx')\n"
   ]
  },
  {
   "cell_type": "code",
   "execution_count": null,
   "id": "1bbdad73",
   "metadata": {},
   "outputs": [],
   "source": []
  }
 ],
 "metadata": {
  "kernelspec": {
   "display_name": "Python 3 (ipykernel)",
   "language": "python",
   "name": "python3"
  },
  "language_info": {
   "codemirror_mode": {
    "name": "ipython",
    "version": 3
   },
   "file_extension": ".py",
   "mimetype": "text/x-python",
   "name": "python",
   "nbconvert_exporter": "python",
   "pygments_lexer": "ipython3",
   "version": "3.9.7"
  }
 },
 "nbformat": 4,
 "nbformat_minor": 5
}
