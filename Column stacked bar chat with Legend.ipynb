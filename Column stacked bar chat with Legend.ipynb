{
 "cells": [
  {
   "cell_type": "code",
   "execution_count": null,
   "id": "3d81860b",
   "metadata": {},
   "outputs": [],
   "source": []
  },
  {
   "cell_type": "code",
   "execution_count": 17,
   "id": "17a9b077",
   "metadata": {},
   "outputs": [],
   "source": [
    "from pptx import Presentation\n",
    "from pptx.chart.data import CategoryChartData\n",
    "from pptx.util import Inches\n",
    "from pptx.enum.shapes import MSO_SHAPE\n",
    "from pptx.dml.color import RGBColor\n",
    "from pptx.enum.chart import XL_LEGEND_POSITION\n",
    "from pptx.enum.chart import XL_CHART_TYPE\n",
    "\n",
    "\n",
    "# Create a presentation\n",
    "prs = Presentation()\n",
    "\n",
    "# Add a slide\n",
    "slide_layout = prs.slide_layouts[6]  # Blank slide layout\n",
    "slide = prs.slides.add_slide(slide_layout)\n",
    "\n",
    "# Define data for the chart\n",
    "categories = ['Category 1', 'Category 2', 'Category 3']\n",
    "data_series1 = [3, 5, 7]\n",
    "data_series2 = [2, 4, 6]\n",
    "\n",
    "# Define colors for the series\n",
    "color1 = RGBColor(255, 0, 0)  # Red\n",
    "color2 = RGBColor(0, 0, 255)  # Blue\n",
    "\n",
    "# Add a chart to the slide\n",
    "left = Inches(1)\n",
    "top = Inches(1)\n",
    "width = Inches(6)\n",
    "height = Inches(4.5)\n",
    "\n",
    "\n",
    "# Add data to the chart\n",
    "chart_data = CategoryChartData()\n",
    "chart_data.categories = categories\n",
    "chart_data.add_series('Series 1', data_series1)\n",
    "chart_data.add_series('Series 2', data_series2)\n",
    "\n",
    "chart = slide.shapes.add_chart(XL_CHART_TYPE.COLUMN_STACKED, left, top, width, height, chart_data).chart\n",
    "\n",
    "# Set the chart title\n",
    "chart.has_title = True\n",
    "chart.chart_title.text_frame.text = \"Stacked Bar Chart with Legend\"\n",
    "\n",
    "# Add a legend\n",
    "chart.has_legend = True\n",
    "chart.legend.position = XL_LEGEND_POSITION.RIGHT  # change the legend position as per requirement \n",
    "chart.legend.include_in_layout = False  # False if legend should be located outside plot area\n",
    "\n",
    "# Save the presentation\n",
    "prs.save('stacked_bar_chart_with_legend.pptx')"
   ]
  },
  {
   "cell_type": "code",
   "execution_count": null,
   "id": "7989d3be",
   "metadata": {},
   "outputs": [],
   "source": []
  }
 ],
 "metadata": {
  "kernelspec": {
   "display_name": "Python 3 (ipykernel)",
   "language": "python",
   "name": "python3"
  },
  "language_info": {
   "codemirror_mode": {
    "name": "ipython",
    "version": 3
   },
   "file_extension": ".py",
   "mimetype": "text/x-python",
   "name": "python",
   "nbconvert_exporter": "python",
   "pygments_lexer": "ipython3",
   "version": "3.10.9"
  },
  "vp": {
   "vp_config_version": "1.0.0",
   "vp_menu_width": 273,
   "vp_note_display": false,
   "vp_note_width": 0,
   "vp_position": {
    "width": 278
   },
   "vp_section_display": false,
   "vp_signature": "VisualPython"
  }
 },
 "nbformat": 4,
 "nbformat_minor": 5
}
