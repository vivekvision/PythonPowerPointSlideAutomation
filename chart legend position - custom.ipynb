{
 "cells": [
  {
   "cell_type": "code",
   "execution_count": 27,
   "id": "df310372",
   "metadata": {},
   "outputs": [],
   "source": [
    "from pptx import Presentation\n",
    "from pptx.enum.chart import XL_CHART_TYPE\n",
    "from pptx.chart.data import ChartData\n",
    "from pptx.enum.chart import XL_LEGEND_POSITION\n",
    "from pptx.util import Inches\n",
    "import pandas as pd\n",
    "\n",
    "\n",
    "\"\"\"\n",
    "\n",
    "Create a new presentation, add a slide, a column clustered chart and add some data to it. \n",
    "\n",
    "set has_legend to True to show the legend and include_in_layout to False\n",
    "so it does not take up extra space. \n",
    "\n",
    "set has_custom_position to True to\n",
    "indicate that we want to specify the position, and set the left and top properties \n",
    "to specify the position of the legend. \n",
    "\n",
    "Finally, save the presentation.\n",
    "\n",
    "\n",
    "\"\"\"\n",
    "\n",
    "\n",
    "# Open an existing presentation or create a new one\n",
    "prs = Presentation()\n",
    "\n",
    "# Create a sample pandas dataframe\n",
    "df = pd.DataFrame({\n",
    "    'Category': ['A', 'B', 'C', 'D'],\n",
    "    'Value 1': [10, 20, 30, 40],\n",
    "    'Value 2': [15, 25, 35, 45]\n",
    "})\n",
    "\n",
    "# Define the chart data\n",
    "chart_data = ChartData()\n",
    "chart_data.categories = df['Category']\n",
    "chart_data.add_series('Value 1', df['Value 1'])\n",
    "chart_data.add_series('Value 2', df['Value 2'])\n",
    "\n",
    "\n",
    "# Select the first slide and add a chart to it\n",
    "slide = prs.slides.add_slide(prs.slide_layouts[5])\n",
    "# Add the chart to the slide\n",
    "x, y, cx, cy = Inches(2), Inches(2), Inches(6), Inches(4.5)\n",
    "\n",
    "chart = slide.shapes.add_chart(XL_CHART_TYPE.COLUMN_CLUSTERED, x, y, cx, cy, chart_data).chart\n",
    "\n",
    "# Set the legend position to custom\n",
    "chart.has_legend = True\n",
    "chart.has_legend = True\n",
    "chart.legend.include_in_layout = False\n",
    "chart.legend.has_custom_position = True\n",
    "chart.legend.left = Inches(2)\n",
    "chart.legend.top = Inches(2)\n",
    "\n",
    "# Save the presentation\n",
    "prs.save('chart_with_custom_legend_position.pptx')\n"
   ]
  },
  {
   "cell_type": "code",
   "execution_count": null,
   "id": "f446e5ac",
   "metadata": {},
   "outputs": [],
   "source": []
  },
  {
   "cell_type": "code",
   "execution_count": null,
   "id": "9aedd993",
   "metadata": {},
   "outputs": [],
   "source": []
  }
 ],
 "metadata": {
  "kernelspec": {
   "display_name": "Python 3 (ipykernel)",
   "language": "python",
   "name": "python3"
  },
  "language_info": {
   "codemirror_mode": {
    "name": "ipython",
    "version": 3
   },
   "file_extension": ".py",
   "mimetype": "text/x-python",
   "name": "python",
   "nbconvert_exporter": "python",
   "pygments_lexer": "ipython3",
   "version": "3.9.7"
  }
 },
 "nbformat": 4,
 "nbformat_minor": 5
}
