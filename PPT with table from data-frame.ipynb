{
 "cells": [
  {
   "cell_type": "code",
   "execution_count": 1,
   "id": "cb94a931",
   "metadata": {},
   "outputs": [],
   "source": [
    "import pandas as pd\n",
    "from pptx import Presentation\n",
    "from pptx.util import Inches\n",
    "\n",
    "# create a new PowerPoint presentation object\n",
    "prs = Presentation()\n",
    "\n",
    "# add a new slide with a Title and Content layout\n",
    "slide_layout = prs.slide_layouts[1]\n",
    "slide = prs.slides.add_slide(slide_layout)\n",
    "\n",
    "# add a title to the slide\n",
    "title = slide.shapes.title\n",
    "title.text = \"Sample Table\"\n",
    "\n",
    "# create a Pandas DataFrame with some data\n",
    "df = pd.DataFrame({\n",
    "    'Column A': [1, 2, 3, 4],\n",
    "    'Column B': ['Apple', 'Banana', 'Cherry', 'Durian'],\n",
    "    'Column C': [10.5, 20.5, 30.5, 40.5]\n",
    "})\n",
    "\n",
    "# get the number of rows and columns in the DataFrame\n",
    "num_rows, num_cols = df.shape\n",
    "\n",
    "# define the dimensions and position of the table on the slide\n",
    "left = Inches(1.5)\n",
    "top = Inches(2.0)\n",
    "width = Inches(8.0)\n",
    "height = Inches(1.5 * num_rows)\n",
    "table = slide.shapes.add_table(rows=num_rows+1, cols=num_cols, left=left, top=top, width=width, height=height).table\n",
    "\n",
    "# populate the table with the data from the DataFrame\n",
    "for i, column in enumerate(df.columns):\n",
    "    table.cell(0, i).text = column\n",
    "    for j, value in enumerate(df[column]):\n",
    "        table.cell(j+1, i).text = str(value)\n",
    "\n",
    "# format the table\n",
    "table.first_row = True\n",
    "table.style = \"Table Grid\"\n",
    "\n",
    "# save the PowerPoint presentation\n",
    "prs.save(\"sample_table.pptx\")\n"
   ]
  },
  {
   "cell_type": "code",
   "execution_count": null,
   "id": "7450a921",
   "metadata": {},
   "outputs": [],
   "source": []
  }
 ],
 "metadata": {
  "kernelspec": {
   "display_name": "Python 3 (ipykernel)",
   "language": "python",
   "name": "python3"
  },
  "language_info": {
   "codemirror_mode": {
    "name": "ipython",
    "version": 3
   },
   "file_extension": ".py",
   "mimetype": "text/x-python",
   "name": "python",
   "nbconvert_exporter": "python",
   "pygments_lexer": "ipython3",
   "version": "3.9.7"
  }
 },
 "nbformat": 4,
 "nbformat_minor": 5
}
