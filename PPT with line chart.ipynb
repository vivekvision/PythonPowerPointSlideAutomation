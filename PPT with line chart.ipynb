{
 "cells": [
  {
   "cell_type": "code",
   "execution_count": 3,
   "id": "60e470d2",
   "metadata": {},
   "outputs": [],
   "source": [
    "from pptx import Presentation\n",
    "from pptx.chart.data import ChartData\n",
    "from pptx.chart.chart import Chart\n",
    "from pptx.enum.chart import XL_CHART_TYPE\n",
    "from pptx.util import Inches\n",
    "\n",
    "# create a new PowerPoint presentation object\n",
    "prs = Presentation()\n",
    "\n",
    "# add a new slide with only Titles\n",
    "slide_layout = prs.slide_layouts[5]\n",
    "slide = prs.slides.add_slide(slide_layout)\n",
    "\n",
    "# add a title to the slide\n",
    "title = slide.shapes.title\n",
    "title.text = \"Sample Line Chart\"\n",
    "\n",
    "# create some sample data\n",
    "data = ChartData()\n",
    "data.categories = ['January', 'February', 'March', 'April', 'May', 'June']\n",
    "data.add_series('Series 1', (10, 20, 30, 40, 50, 60))\n",
    "\n",
    "# define the dimensions and position of the chart on the slide\n",
    "left = Inches(1.5)\n",
    "top = Inches(2.0)\n",
    "width = Inches(8.0)\n",
    "height = Inches(4.5)\n",
    "chart = slide.shapes.add_chart(\n",
    "    XL_CHART_TYPE.LINE, left, top, width, height, data\n",
    ").chart\n",
    "\n",
    "# set the title of the chart\n",
    "chart.chart_title.text_frame.text = \"Sample Line Chart\"\n",
    "\n",
    "# format the chart\n",
    "plot = chart.plots[0]\n",
    "plot.has_data_labels = True\n",
    "plot.data_labels.number_format = '0'\n",
    "\n",
    "chart.legend.include_in_layout = False\n",
    "\n",
    "# save the PowerPoint presentation\n",
    "prs.save(\"sample_line_chart.pptx\")\n"
   ]
  },
  {
   "cell_type": "code",
   "execution_count": null,
   "id": "d92020db",
   "metadata": {},
   "outputs": [],
   "source": []
  }
 ],
 "metadata": {
  "kernelspec": {
   "display_name": "Python 3 (ipykernel)",
   "language": "python",
   "name": "python3"
  },
  "language_info": {
   "codemirror_mode": {
    "name": "ipython",
    "version": 3
   },
   "file_extension": ".py",
   "mimetype": "text/x-python",
   "name": "python",
   "nbconvert_exporter": "python",
   "pygments_lexer": "ipython3",
   "version": "3.9.7"
  }
 },
 "nbformat": 4,
 "nbformat_minor": 5
}
