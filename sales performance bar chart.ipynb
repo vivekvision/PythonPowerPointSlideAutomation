{
 "cells": [
  {
   "cell_type": "code",
   "execution_count": 3,
   "id": "e76150d5",
   "metadata": {},
   "outputs": [],
   "source": [
    "import pandas as pd\n",
    "from pptx import Presentation\n",
    "from pptx.chart.data import ChartData\n",
    "from pptx.enum.chart import XL_CHART_TYPE\n",
    "from pptx.util import Inches\n",
    "from pptx.dml.color import RGBColor\n",
    "from pptx.util import Pt\n",
    "\n",
    "# Create a sample data frame\n",
    "df = pd.DataFrame({'Month': ['January', 'February', 'March', 'April', 'May', 'June'],\n",
    "                   'Sales': [100, 150, 200, 175, 225, 250]})\n",
    "\n",
    "# Create a new PowerPoint presentation\n",
    "prs = Presentation()\n",
    "\n",
    "# Add a new slide\n",
    "slide = prs.slides.add_slide(prs.slide_layouts[5])\n",
    "\n",
    "# Define chart data\n",
    "chart_data = ChartData()\n",
    "chart_data.categories = df['Month'].tolist()\n",
    "chart_data.add_series('Sales', df['Sales'].tolist())\n",
    "\n",
    "# Create a chart object\n",
    "x, y, cx, cy = Inches(2), Inches(2), Inches(6), Inches(4)\n",
    "chart = slide.shapes.add_chart(XL_CHART_TYPE.COLUMN_CLUSTERED, x, y, cx, cy, chart_data).chart\n",
    "\n",
    "# Customize chart properties\n",
    "chart.chart_title.text_frame.text = 'Sales Performance'\n",
    "chart.has_legend = False\n",
    "\n",
    "\n",
    "\n",
    "# Set the values for the axis titles\n",
    "category_axis = chart.category_axis\n",
    "category_axis.has_major_gridlines = False\n",
    "category_axis.tick_labels.font.size = Pt(12)\n",
    "category_axis.tick_labels.font.bold = True\n",
    "value_axis = chart.value_axis\n",
    "value_axis.has_major_gridlines = False\n",
    "value_axis.maximum_scale = max(df['Sales']) + 50\n",
    "\n",
    "# Save the PowerPoint presentation\n",
    "prs.save('sales_performance.pptx')\n"
   ]
  },
  {
   "cell_type": "code",
   "execution_count": null,
   "id": "761617e5",
   "metadata": {},
   "outputs": [],
   "source": []
  }
 ],
 "metadata": {
  "kernelspec": {
   "display_name": "Python 3 (ipykernel)",
   "language": "python",
   "name": "python3"
  },
  "language_info": {
   "codemirror_mode": {
    "name": "ipython",
    "version": 3
   },
   "file_extension": ".py",
   "mimetype": "text/x-python",
   "name": "python",
   "nbconvert_exporter": "python",
   "pygments_lexer": "ipython3",
   "version": "3.9.7"
  }
 },
 "nbformat": 4,
 "nbformat_minor": 5
}
