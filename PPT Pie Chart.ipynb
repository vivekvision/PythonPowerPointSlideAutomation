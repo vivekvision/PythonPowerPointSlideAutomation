{
 "cells": [
  {
   "cell_type": "code",
   "execution_count": null,
   "id": "b4780ff3",
   "metadata": {},
   "outputs": [],
   "source": []
  },
  {
   "cell_type": "code",
   "execution_count": 6,
   "id": "91ff57f5",
   "metadata": {},
   "outputs": [],
   "source": [
    "from pptx import Presentation\n",
    "from pptx.chart.data import ChartData\n",
    "from pptx.enum.chart import XL_CHART_TYPE\n",
    "from pptx.util import Inches\n",
    "\n",
    "# Create a new PowerPoint presentation and add a blank slide\n",
    "prs = Presentation()\n",
    "slide_layout = prs.slide_layouts[5]\n",
    "slide = prs.slides.add_slide(slide_layout)\n",
    "\n",
    "# Define the chart data\n",
    "chart_data = ChartData()\n",
    "chart_data.categories = ['Category 1', 'Category 2', 'Category 3']\n",
    "chart_data.add_series('Series 1', (25, 50, 25))\n",
    "\n",
    "# Add a chart to the slide\n",
    "x, y, cx, cy = Inches(2), Inches(2), Inches(6), Inches(4.5)\n",
    "chart = slide.shapes.add_chart(\n",
    "    XL_CHART_TYPE.PIE, x, y, cx, cy, chart_data\n",
    ").chart\n",
    "\n",
    "# Set the chart title\n",
    "chart.has_title = True\n",
    "chart.chart_title.text_frame.text = 'My Pie Chart'\n",
    "\n",
    "# Save the presentation\n",
    "prs.save('my_presentation_with_pie_chart.pptx')\n"
   ]
  },
  {
   "cell_type": "code",
   "execution_count": null,
   "id": "bcfde4a9",
   "metadata": {},
   "outputs": [],
   "source": []
  }
 ],
 "metadata": {
  "kernelspec": {
   "display_name": "Python 3 (ipykernel)",
   "language": "python",
   "name": "python3"
  },
  "language_info": {
   "codemirror_mode": {
    "name": "ipython",
    "version": 3
   },
   "file_extension": ".py",
   "mimetype": "text/x-python",
   "name": "python",
   "nbconvert_exporter": "python",
   "pygments_lexer": "ipython3",
   "version": "3.9.7"
  }
 },
 "nbformat": 4,
 "nbformat_minor": 5
}
