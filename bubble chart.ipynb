{
 "cells": [
  {
   "cell_type": "code",
   "execution_count": 44,
   "id": "b05b890c",
   "metadata": {},
   "outputs": [],
   "source": [
    "import pandas as pd\n",
    "from pptx import Presentation\n",
    "from pptx.chart.data import BubbleChartData\n",
    "from pptx.enum.chart import XL_CHART_TYPE\n",
    "from pptx.util import Inches\n",
    "\n",
    "\n",
    "\"\"\"\n",
    "This code creates a buble chart with lines connecting the points, \n",
    "using the XL_CHART_TYPE.BUBBLE chart type. The chart data is defined using BubbleChartData()\n",
    "and individual data points are added using add_data_point().\n",
    "The resulting chart is added to a slide and the chart and axis titles are set before saving the presentation.\n",
    "\n",
    "\"\"\"\n",
    "\n",
    "\n",
    "# create sample dataframe\n",
    "df = pd.DataFrame({'x': [1, 2, 3, 4, 5], 'y': [6, 8, 9, 4, 5], 'Size' :[6, 8, 9, 4, 5]})\n",
    "\n",
    "# create pptx presentation and slide\n",
    "prs = Presentation()\n",
    "slide = prs.slides.add_slide(prs.slide_layouts[5])\n",
    "\n",
    "# define Bubble chart data\n",
    "chart_data = BubbleChartData()\n",
    "series = chart_data.add_series('Series 1')\n",
    "\n",
    "for j in range(0, len(df)):\n",
    "    series.add_data_point(df['x'][j], df['y'][j], df['Size'][j])\n",
    "\n",
    "\n",
    "# add chart to slide\n",
    "x, y, cx, cy = Inches(2), Inches(2), Inches(6), Inches(4.5)\n",
    "\n",
    "chart = slide.shapes.add_chart(XL_CHART_TYPE.BUBBLE, x, y, cx, cy, chart_data).chart\n",
    "\n",
    "# set chart title and axis titles\n",
    "chart.has_title = True\n",
    "chart.chart_title.text_frame.text = \"Bubble Chart\"\n",
    "chart.category_axis.has_title = True\n",
    "chart.category_axis.axis_title.text_frame.text = \"X Axis\"\n",
    "chart.value_axis.has_title = True\n",
    "chart.value_axis.axis_title.text_frame.text = \"Y Axis\"\n",
    "\n",
    "# save presentation\n",
    "prs.save('Bubble_chart.pptx')\n"
   ]
  },
  {
   "cell_type": "code",
   "execution_count": null,
   "id": "8282f273",
   "metadata": {},
   "outputs": [],
   "source": []
  }
 ],
 "metadata": {
  "kernelspec": {
   "display_name": "Python 3 (ipykernel)",
   "language": "python",
   "name": "python3"
  },
  "language_info": {
   "codemirror_mode": {
    "name": "ipython",
    "version": 3
   },
   "file_extension": ".py",
   "mimetype": "text/x-python",
   "name": "python",
   "nbconvert_exporter": "python",
   "pygments_lexer": "ipython3",
   "version": "3.9.7"
  }
 },
 "nbformat": 4,
 "nbformat_minor": 5
}
