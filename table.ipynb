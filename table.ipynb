{
 "cells": [
  {
   "cell_type": "markdown",
   "id": "04c0df94",
   "metadata": {},
   "source": [
    "creates a new PowerPoint presentation, adds a slide to it, and adds a title to the slide.\n",
    "\n",
    "Defines some data for a table, and defines the dimensions and position of the table.\n",
    "\n",
    "Adds the table to the slide, populates it with the data, and saves the presentation"
   ]
  },
  {
   "cell_type": "code",
   "execution_count": 7,
   "id": "0635bbe2",
   "metadata": {},
   "outputs": [],
   "source": [
    "import pptx\n",
    "from pptx.util import Inches\n",
    "\n",
    "\n",
    "# create a new PowerPoint presentation\n",
    "prs = pptx.Presentation()\n",
    "\n",
    "# add a slide to the presentation\n",
    "slide = prs.slides.add_slide(prs.slide_layouts[4])\n",
    "\n",
    "# add a title to the slide\n",
    "title = slide.shapes.title\n",
    "title.text = \"My Data Table\"\n",
    "\n",
    "# define the data for the table\n",
    "data = [\n",
    "    ['Name', 'Age', 'Gender'],\n",
    "    ['John', '32', 'Male'],\n",
    "    ['Jane', '28', 'Female'],\n",
    "    ['Bob', '45', 'Male'],\n",
    "]\n",
    "\n",
    "# define the dimensions and position of the table\n",
    "left = Inches(1)\n",
    "top = Inches(2)\n",
    "width = Inches(6)\n",
    "height = Inches(2)\n",
    "\n",
    "# add the table to the slide\n",
    "table = slide.shapes.add_table(rows=len(data), cols=len(data[0]), left=left, top=top, width=width, height=height).table\n",
    "\n",
    "# populate the table with the data\n",
    "for i, row in enumerate(data):\n",
    "    for j, cell in enumerate(row):\n",
    "        table.cell(i, j).text = cell\n",
    "\n",
    "# save the PowerPoint presentation\n",
    "prs.save(\"table.pptx\")\n"
   ]
  }
 ],
 "metadata": {
  "kernelspec": {
   "display_name": "Python 3 (ipykernel)",
   "language": "python",
   "name": "python3"
  },
  "language_info": {
   "codemirror_mode": {
    "name": "ipython",
    "version": 3
   },
   "file_extension": ".py",
   "mimetype": "text/x-python",
   "name": "python",
   "nbconvert_exporter": "python",
   "pygments_lexer": "ipython3",
   "version": "3.9.7"
  }
 },
 "nbformat": 4,
 "nbformat_minor": 5
}
