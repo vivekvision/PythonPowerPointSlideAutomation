{
 "cells": [
  {
   "cell_type": "code",
   "execution_count": 8,
   "id": "3ca78b35",
   "metadata": {},
   "outputs": [],
   "source": [
    "import pandas as pd\n",
    "from pptx import Presentation\n",
    "from pptx.chart.data import CategoryChartData\n",
    "from pptx.enum.chart import XL_CHART_TYPE\n",
    "from pptx.enum.dml import MSO_THEME_COLOR_INDEX\n",
    "from pptx.util import Cm, Pt\n",
    "\n",
    "# create sample data\n",
    "data = {\n",
    "    'Month': ['Jan', 'Feb', 'Mar', 'Apr', 'May', 'Jun', 'Jul', 'Aug', 'Sep', 'Oct', 'Nov', 'Dec'],\n",
    "    'Sales': [10000, 12000, 9000, 14000, 18000, 13000, 19000, 23000, 20000, 18000, 22000, 26000]\n",
    "}\n",
    "df = pd.DataFrame(data)\n",
    "\n",
    "# create presentation\n",
    "prs = Presentation()\n",
    "\n",
    "# create slide with chart\n",
    "slide = prs.slides.add_slide(prs.slide_layouts[5])\n",
    "left, top, width, height = Cm(2), Cm(5), Cm(20), Cm(10)\n",
    "chart_data = CategoryChartData()\n",
    "\n",
    "# add data to chart\n",
    "chart_data.categories = df['Month']\n",
    "chart_data.add_series('Sales', df['Sales'])\n",
    "\n",
    "# add chart to slide\n",
    "chart = slide.shapes.add_chart(XL_CHART_TYPE.LINE, left, top, width, height, chart_data).chart\n",
    "\n",
    "# add data labels to chart\n",
    "series = chart.series[0]\n",
    "series.data_labels.number_format = 'General'\n",
    "sales_values = df['Sales'].tolist()\n",
    "\n",
    "# add deltas to data labels\n",
    "for i, point in enumerate(series.points):\n",
    "    #point.data_label.text_frame.clear()\n",
    "    #run = point.data_label.text_frame.paragraphs[0].add_run()\n",
    "    #run.text = f\"{df['Month'][i]} {sales_values[i]}\"\n",
    "    if i > 0:\n",
    "        diff = sales_values[i] - sales_values[i-1]\n",
    "        if diff > 0:\n",
    "            run = point.data_label.text_frame.add_paragraph().add_run()\n",
    "            run.text = f'▲ {diff}'\n",
    "            #run.font.color.theme_color = MSO_THEME_COLOR_INDEX.ACCENT_1\n",
    "            run.font.size = Pt(9)\n",
    "        elif diff < 0:\n",
    "            run = point.data_label.text_frame.add_paragraph().add_run()\n",
    "            run.text = f'▼ {-diff}'\n",
    "            #run.font.color.theme_color = MSO_THEME_COLOR_INDEX.ACCENT_2\n",
    "            run.font.size = Pt(9)\n",
    "\n",
    "# save presentation\n",
    "prs.save('trend_with_increment_decrement_indicator.pptx')"
   ]
  },
  {
   "cell_type": "code",
   "execution_count": null,
   "id": "65abb721",
   "metadata": {},
   "outputs": [],
   "source": []
  },
  {
   "cell_type": "code",
   "execution_count": null,
   "id": "40afb082",
   "metadata": {},
   "outputs": [],
   "source": []
  },
  {
   "cell_type": "code",
   "execution_count": null,
   "id": "88b1089e",
   "metadata": {},
   "outputs": [],
   "source": []
  }
 ],
 "metadata": {
  "kernelspec": {
   "display_name": "Python 3 (ipykernel)",
   "language": "python",
   "name": "python3"
  },
  "language_info": {
   "codemirror_mode": {
    "name": "ipython",
    "version": 3
   },
   "file_extension": ".py",
   "mimetype": "text/x-python",
   "name": "python",
   "nbconvert_exporter": "python",
   "pygments_lexer": "ipython3",
   "version": "3.9.7"
  }
 },
 "nbformat": 4,
 "nbformat_minor": 5
}
