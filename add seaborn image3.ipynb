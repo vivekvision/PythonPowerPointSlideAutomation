{
 "cells": [
  {
   "cell_type": "code",
   "execution_count": null,
   "id": "30de8f4d",
   "metadata": {},
   "outputs": [],
   "source": [
    "Its not recommended practice to add image in PPTX plot \n",
    "\n",
    "all plot should be done using native PPTX API"
   ]
  },
  {
   "cell_type": "code",
   "execution_count": 1,
   "id": "38fba7a8",
   "metadata": {},
   "outputs": [
    {
     "data": {
      "image/png": "[encoded data removed]",
      "text/plain": [
       "<Figure size 640x480 with 1 Axes>"
      ]
     },
     "metadata": {},
     "output_type": "display_data"
    }
   ],
   "source": [
    "import seaborn as sns\n",
    "import numpy as np\n",
    "from pptx import Presentation\n",
    "from pptx.util import Inches, Pt\n",
    "from pptx.enum.text import MSO_ANCHOR, MSO_AUTO_SIZE\n",
    "import io\n",
    "\n",
    "# Create a new PowerPoint presentation\n",
    "prs = Presentation()\n",
    "\n",
    "# Create a title slide\n",
    "title_slide_layout = prs.slide_layouts[0]\n",
    "slide = prs.slides.add_slide(title_slide_layout)\n",
    "\n",
    "# Add the title and subtitle\n",
    "title = slide.shapes.title\n",
    "subtitle = slide.placeholders[1]\n",
    "title.text = \"My Awesome Presentation\"\n",
    "subtitle.text = \"Using PPTX Python Package\"\n",
    "\n",
    "# Create a slide for the plot\n",
    "plot_slide_layout = prs.slide_layouts[5]\n",
    "slide = prs.slides.add_slide(plot_slide_layout)\n",
    "\n",
    "# Add a title to the slide\n",
    "title = slide.shapes.title\n",
    "title.text = \"Distribution of Random Data\"\n",
    "\n",
    "# Generate some random data\n",
    "data = np.random.normal(size=100)\n",
    "\n",
    "# Create a seaborn plot and save it to a file\n",
    "sns_plot = sns.histplot(data)\n",
    "\n",
    "image_stream = io.BytesIO()\n",
    "sns_plot.figure.savefig(image_stream)\n",
    "\n",
    "\n",
    "\n",
    "\n",
    "# Add the seaborn plot to the slide\n",
    "left = Inches(1)\n",
    "top = Inches(2)\n",
    "height = Inches(4)\n",
    "pic = slide.shapes.add_picture(image_stream, left, top, height=height)\n",
    "\n",
    "# Add a text box for the x-axis label\n",
    "x_label = slide.shapes.add_textbox(left, top+height+Inches(0.2), height=Inches(0.5), width=Inches(4))\n",
    "x_label.text = \"Values\"\n",
    "x_label.text_frame.paragraphs[0].font.size = Pt(14)\n",
    "x_label.text_frame.paragraphs[0].font.bold = True\n",
    "\n",
    "# Add a text box for the y-axis label\n",
    "y_label = slide.shapes.add_textbox(left-Inches(0.8), top+height/2, height=Inches(0.5), width=Inches(1))\n",
    "y_label.text = \"Frequency\"\n",
    "y_label.text_frame.paragraphs[0].font.size = Pt(14)\n",
    "y_label.text_frame.paragraphs[0].font.bold = True\n",
    "y_label.text_frame.paragraphs[0].rotation = -90\n",
    "#y_label.text_frame.paragraphs[0].anchor = MSO_ANCHOR.MIDDLE_CENTER\n",
    "\n",
    "# Add a text box for the plot description\n",
    "description = slide.shapes.add_textbox(left+height/2, top+height+Inches(0.5), height=Inches(1), width=Inches(4))\n",
    "description.text = \"This is a histogram of 100 random data points generated from a normal distribution. The values range from approximately -3 to 3, with a mean of 0 and standard deviation of 1.\"\n",
    "description.text_frame.paragraphs[0].font.size = Pt(12)\n",
    "\n",
    "# Save the PowerPoint presentation to a file\n",
    "prs.save(\"my_test1.pptx\")\n"
   ]
  },
  {
   "cell_type": "code",
   "execution_count": null,
   "id": "eafbda5d",
   "metadata": {},
   "outputs": [],
   "source": []
  }
 ],
 "metadata": {
  "kernelspec": {
   "display_name": "Python 3 (ipykernel)",
   "language": "python",
   "name": "python3"
  },
  "language_info": {
   "codemirror_mode": {
    "name": "ipython",
    "version": 3
   },
   "file_extension": ".py",
   "mimetype": "text/x-python",
   "name": "python",
   "nbconvert_exporter": "python",
   "pygments_lexer": "ipython3",
   "version": "3.10.9"
  },
  "vp": {
   "vp_config_version": "1.0.0",
   "vp_menu_width": 273,
   "vp_note_display": false,
   "vp_note_width": 0,
   "vp_position": {
    "width": 278
   },
   "vp_section_display": false,
   "vp_signature": "VisualPython"
  }
 },
 "nbformat": 4,
 "nbformat_minor": 5
}
