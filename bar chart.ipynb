{
 "cells": [
  {
   "cell_type": "code",
   "execution_count": 12,
   "id": "56234cf5",
   "metadata": {},
   "outputs": [],
   "source": [
    "from pptx import Presentation\n",
    "from pptx.chart.data import ChartData\n",
    "from pptx.util import Pt\n",
    "from pptx.enum.chart import XL_CHART_TYPE\n",
    "from pptx.util import Inches\n",
    "\n",
    "# Create a new PowerPoint presentation and add a blank slide\n",
    "prs = Presentation()\n",
    "slide_layout = prs.slide_layouts[6]\n",
    "slide = prs.slides.add_slide(slide_layout)\n",
    "\n",
    "# Define the chart data\n",
    "chart_data = ChartData()\n",
    "\n",
    "# categories are description for each bar\n",
    "chart_data.categories = ['Category 1', 'Category 2', 'Category 3']\n",
    "\n",
    "# lenght of each bar - The height or length of each bar relates directly to its value.\n",
    "#first bar for each category \n",
    "chart_data.add_series('Series 1', (10, 20, 30))\n",
    "#second bar for eacg category \n",
    "chart_data.add_series('Series 2', (15, 25, 35))\n",
    "\n",
    "\n",
    "# Add a chart to the slide\n",
    "x, y, cx, cy = Inches(2), Inches(2), Inches(6), Inches(4.5)\n",
    "\n",
    "\n",
    "chart = slide.shapes.add_chart(XL_CHART_TYPE.COLUMN_CLUSTERED, x, y, cx, cy, chart_data).chart\n",
    "\n",
    "# Set the chart title\n",
    "chart.has_title = True\n",
    "chart.chart_title.text_frame.text = 'My Bar Chart'"
   ]
  },
  {
   "cell_type": "code",
   "execution_count": 13,
   "id": "197602f5",
   "metadata": {},
   "outputs": [
    {
     "data": {
      "text/plain": [
       "'Category 1'"
      ]
     },
     "execution_count": 13,
     "metadata": {},
     "output_type": "execute_result"
    }
   ],
   "source": [
    "chart_data.categories[0].label"
   ]
  },
  {
   "cell_type": "code",
   "execution_count": 20,
   "id": "044dbdd2",
   "metadata": {},
   "outputs": [
    {
     "data": {
      "text/plain": [
       "3"
      ]
     },
     "execution_count": 20,
     "metadata": {},
     "output_type": "execute_result"
    }
   ],
   "source": [
    "chart_data.categories.leaf_count"
   ]
  },
  {
   "cell_type": "markdown",
   "id": "6a339bdb",
   "metadata": {},
   "source": [
    "https://python-pptx.readthedocs.io/en/latest/user/charts.html"
   ]
  },
  {
   "cell_type": "code",
   "execution_count": 21,
   "id": "99473b9d",
   "metadata": {},
   "outputs": [],
   "source": [
    "\n",
    "# Build the Text Box below bar chart\n",
    "left = Inches(0.75)\n",
    "top = Inches(1.5) + Inches(4)\n",
    "width = Inches(9)\n",
    "height = Inches(2)\n",
    "txBox = slide.shapes.add_textbox(left, top, width, height)\n",
    "tf = txBox.text_frame\n",
    "# Title\n",
    "p = tf.add_paragraph()\n",
    "p.text = 'Analysis'\n",
    "p.font.size = Pt(18)\n",
    "# First bullet point\n",
    "p = tf.add_paragraph()\n",
    "p.text = '• {} first category'.format(chart_data.categories[0].label)\n",
    "p.level = 1\n",
    "# Second bullet point\n",
    "p = tf.add_paragraph()\n",
    "p.text = '• {} second category'.format(chart_data.categories[1].label)\n",
    "p.level = 1\n",
    "# Third bullet point\n",
    "p = tf.add_paragraph()\n",
    "p.text = '• {} third category'.format(chart_data.categories[2].label)\n",
    "p.level = 1\n",
    "\n",
    "page = 1\n",
    "# Add Pages\n",
    "txBox = slide.shapes.add_textbox(Inches(9), Inches(6.75), Inches(1), Inches(1))\n",
    "tf = txBox.text_frame\n",
    "p = tf.add_paragraph()\n",
    "p.text = str('{}/{}'.format(page, chart_data.categories.leaf_count ))\n",
    "p.font.size = Pt(15)\n",
    "\n",
    "\n",
    "\n",
    "# Save the presentation\n",
    "prs.save('my_presentation_with_bar_chart.pptx')"
   ]
  },
  {
   "cell_type": "code",
   "execution_count": null,
   "id": "2c660580",
   "metadata": {},
   "outputs": [],
   "source": []
  }
 ],
 "metadata": {
  "kernelspec": {
   "display_name": "Python 3 (ipykernel)",
   "language": "python",
   "name": "python3"
  },
  "language_info": {
   "codemirror_mode": {
    "name": "ipython",
    "version": 3
   },
   "file_extension": ".py",
   "mimetype": "text/x-python",
   "name": "python",
   "nbconvert_exporter": "python",
   "pygments_lexer": "ipython3",
   "version": "3.10.9"
  },
  "vp": {
   "vp_config_version": "1.0.0",
   "vp_menu_width": 273,
   "vp_note_display": false,
   "vp_note_width": 0,
   "vp_position": {
    "width": 278
   },
   "vp_section_display": false,
   "vp_signature": "VisualPython"
  }
 },
 "nbformat": 4,
 "nbformat_minor": 5
}
