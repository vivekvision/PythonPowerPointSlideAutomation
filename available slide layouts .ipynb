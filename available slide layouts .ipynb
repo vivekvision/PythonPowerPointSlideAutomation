{
 "cells": [
  {
   "cell_type": "code",
   "execution_count": 1,
   "id": "b4bc0c75",
   "metadata": {},
   "outputs": [
    {
     "name": "stdout",
     "output_type": "stream",
     "text": [
      "Title Slide\n",
      "Title and Content\n",
      "Section Header\n",
      "Two Content\n",
      "Comparison\n",
      "Title Only\n",
      "Blank\n",
      "Content with Caption\n",
      "Picture with Caption\n",
      "Title and Vertical Text\n",
      "Vertical Title and Text\n"
     ]
    }
   ],
   "source": [
    "from pptx import Presentation\n",
    "\n",
    "# create a new PowerPoint presentation object\n",
    "prs = Presentation()\n",
    "\n",
    "# get the slide master\n",
    "slide_master = prs.slide_master\n",
    "\n",
    "# get the available slide layouts\n",
    "slide_layouts = slide_master.slide_layouts\n",
    "\n",
    "# print the names of the slide layouts\n",
    "for layout in slide_layouts:\n",
    "    print(layout.name)\n"
   ]
  },
  {
   "cell_type": "markdown",
   "id": "bb70175f",
   "metadata": {},
   "source": [
    "use these layout by index 0,1,2 .... to create new slides in presentation with specific layouts."
   ]
  },
  {
   "cell_type": "code",
   "execution_count": null,
   "id": "ea312ea6",
   "metadata": {},
   "outputs": [],
   "source": [
    "# create a new slide with the \"Title Slide\" layout\n",
    "slide = prs.slides.add_slide(slide_layouts[0])"
   ]
  },
  {
   "cell_type": "code",
   "execution_count": null,
   "id": "a7c1a88e",
   "metadata": {},
   "outputs": [],
   "source": []
  }
 ],
 "metadata": {
  "kernelspec": {
   "display_name": "Python 3 (ipykernel)",
   "language": "python",
   "name": "python3"
  },
  "language_info": {
   "codemirror_mode": {
    "name": "ipython",
    "version": 3
   },
   "file_extension": ".py",
   "mimetype": "text/x-python",
   "name": "python",
   "nbconvert_exporter": "python",
   "pygments_lexer": "ipython3",
   "version": "3.9.7"
  }
 },
 "nbformat": 4,
 "nbformat_minor": 5
}
