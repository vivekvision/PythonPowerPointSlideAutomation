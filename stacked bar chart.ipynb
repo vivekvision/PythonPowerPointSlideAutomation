{
 "cells": [
  {
   "cell_type": "code",
   "execution_count": 8,
   "id": "4c22a17e",
   "metadata": {},
   "outputs": [],
   "source": [
    "import pandas as pd\n",
    "from pptx import Presentation\n",
    "from pptx.chart.data import CategoryChartData\n",
    "from pptx.enum.chart import XL_CHART_TYPE\n",
    "from pptx.util import Inches\n",
    "\n",
    "# Create a sample dataframe\n",
    "#sample pandas DataFrame with categories and two sets of values. \n",
    "df = pd.DataFrame({\n",
    "    'Category': ['A', 'B', 'C', 'D'],\n",
    "    'Value1': [10, 20, 30, 40],\n",
    "    'Value2': [5, 15, 25, 35]\n",
    "})\n",
    "\n",
    "\n",
    "\"\"\"\n",
    "Create a new PowerPoint presentation, add a slide to it\n",
    "define the chart data using the CategoryChartData class. \n",
    "add the chart to the slide using the add_chart method of the slide.shapes object,\n",
    "and set the chart type to XL_CHART_TYPE.COLUMN_STACKED. \n",
    "\n",
    "Finally, set the chart title and save the presentation to a file.\n",
    "\n",
    "\"\"\"\n",
    "\n",
    "\n",
    "\n",
    "# Create a new PowerPoint presentation\n",
    "prs = Presentation()\n",
    "\n",
    "# Add a new slide to the presentation - slide_layouts[6] is Title Only slide layout \n",
    "slide = prs.slides.add_slide(prs.slide_layouts[6])\n",
    "\n",
    "# Define the chart data\n",
    "chart_data = CategoryChartData()\n",
    "chart_data.categories = df['Category'].tolist()\n",
    "chart_data.add_series('Value1', df['Value1'].tolist())\n",
    "chart_data.add_series('Value2', df['Value2'].tolist())\n",
    "\n",
    "# Add the chart to the slide\n",
    "x, y, cx, cy = Inches(1), Inches(1), Inches(8), Inches(4.5)\n",
    "chart = slide.shapes.add_chart(\n",
    "    XL_CHART_TYPE.COLUMN_STACKED, x, y, cx, cy, chart_data\n",
    ").chart\n",
    "\n",
    "# Set the chart title\n",
    "chart.has_title = True\n",
    "chart.chart_title.text_frame.text = 'Stacked Bar Chart'\n",
    "\n",
    "# Save the PowerPoint presentation\n",
    "prs.save('stacked_bar_chart.pptx')\n"
   ]
  },
  {
   "cell_type": "code",
   "execution_count": null,
   "id": "56cbebc7",
   "metadata": {},
   "outputs": [],
   "source": []
  }
 ],
 "metadata": {
  "kernelspec": {
   "display_name": "Python 3 (ipykernel)",
   "language": "python",
   "name": "python3"
  },
  "language_info": {
   "codemirror_mode": {
    "name": "ipython",
    "version": 3
   },
   "file_extension": ".py",
   "mimetype": "text/x-python",
   "name": "python",
   "nbconvert_exporter": "python",
   "pygments_lexer": "ipython3",
   "version": "3.9.7"
  }
 },
 "nbformat": 4,
 "nbformat_minor": 5
}
