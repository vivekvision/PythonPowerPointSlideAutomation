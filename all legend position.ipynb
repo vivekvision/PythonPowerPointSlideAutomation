{
 "cells": [
  {
   "cell_type": "code",
   "execution_count": 1,
   "id": "301c523a",
   "metadata": {},
   "outputs": [],
   "source": [
    "from pptx.enum.chart import XL_LEGEND_POSITION\n"
   ]
  },
  {
   "cell_type": "markdown",
   "id": "81d571a6",
   "metadata": {},
   "source": [
    "XL_LEGEND_POSITION.CUSTOM seems not working - workaround available "
   ]
  },
  {
   "cell_type": "code",
   "execution_count": 2,
   "id": "bd577f62",
   "metadata": {},
   "outputs": [
    {
     "name": "stdout",
     "output_type": "stream",
     "text": [
      "BOTTOM\n",
      "CORNER\n",
      "CUSTOM\n",
      "LEFT\n",
      "RIGHT\n",
      "TOP\n",
      "__class__\n",
      "__delattr__\n",
      "__dict__\n",
      "__dir__\n",
      "__doc__\n",
      "__docs_rst__\n",
      "__eq__\n",
      "__format__\n",
      "__ge__\n",
      "__getattribute__\n",
      "__gt__\n",
      "__hash__\n",
      "__init__\n",
      "__init_subclass__\n",
      "__le__\n",
      "__lt__\n",
      "__members__\n",
      "__module__\n",
      "__ms_name__\n",
      "__ne__\n",
      "__new__\n",
      "__reduce__\n",
      "__reduce_ex__\n",
      "__repr__\n",
      "__setattr__\n",
      "__sizeof__\n",
      "__str__\n",
      "__subclasshook__\n",
      "__url__\n",
      "__weakref__\n",
      "_member_to_xml\n",
      "_valid_settings\n",
      "_xml_to_member\n",
      "from_xml\n",
      "to_xml\n",
      "validate\n"
     ]
    }
   ],
   "source": [
    "attributes = dir(XL_LEGEND_POSITION)\n",
    "\n",
    "for attribute in attributes:\n",
    "    print(attribute)"
   ]
  },
  {
   "cell_type": "code",
   "execution_count": null,
   "id": "d4e003e9",
   "metadata": {},
   "outputs": [],
   "source": []
  }
 ],
 "metadata": {
  "kernelspec": {
   "display_name": "Python 3 (ipykernel)",
   "language": "python",
   "name": "python3"
  },
  "language_info": {
   "codemirror_mode": {
    "name": "ipython",
    "version": 3
   },
   "file_extension": ".py",
   "mimetype": "text/x-python",
   "name": "python",
   "nbconvert_exporter": "python",
   "pygments_lexer": "ipython3",
   "version": "3.9.7"
  }
 },
 "nbformat": 4,
 "nbformat_minor": 5
}
